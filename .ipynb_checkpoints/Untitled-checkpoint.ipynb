{
 "cells": [
  {
   "cell_type": "code",
   "execution_count": 5,
   "id": "4ebb7ba2-5332-4068-b617-85d24773941a",
   "metadata": {},
   "outputs": [],
   "source": [
    "import smtplib\n",
    "from email.message import EmailMessage\n",
    "import mimetypes\n",
    "\n",
    "import smtplib\n",
    "from email.message import EmailMessage\n",
    "from email.utils import make_msgid\n",
    "import mimetypes"
   ]
  },
  {
   "cell_type": "code",
   "execution_count": 6,
   "id": "68975922-10d5-4c64-8d25-8716ab68b445",
   "metadata": {},
   "outputs": [],
   "source": [
    "def auto_email(sender_email, sender_password, customer_emails, template_title=\"\", template_content=\"\", pictures_address=\"\"):\n",
    "    \n",
    "    # Setting up the SMTP server\n",
    "    with smtplib.SMTP_SSL('mail.acsunshine.com', 465) as smtp:\n",
    "        smtp.login(sender_email, sender_password)\n",
    "\n",
    "        # Creating the email message\n",
    "        msg = EmailMessage()\n",
    "        msg['Subject'] = template_title\n",
    "        msg['From'] = sender_email\n",
    "        msg.set_content(template_content)\n",
    "\n",
    "        # Attaching the picture\n",
    "        if pictures_address != \"\":\n",
    "            mime_type, _ = mimetypes.guess_type(pictures_address)\n",
    "            mime_type, mime_subtype = mime_type.split('/')\n",
    "            with open(pictures_address, 'rb') as file:\n",
    "                msg.add_attachment(file.read(),\n",
    "                                   maintype=mime_type,\n",
    "                                   subtype=mime_subtype,\n",
    "                                   filename=pictures_address.split('/')[-1])\n",
    "\n",
    "        # Sending the email to all customers\n",
    "        for customer_email in customer_emails:\n",
    "            msg['To'] = customer_email\n",
    "            smtp.send_message(msg)\n",
    "            print(f\"Email sent to {customer_email}\")\n",
    "            # Clear the 'To' field for the next recipient\n",
    "            del msg['To']"
   ]
  },
  {
   "cell_type": "code",
   "execution_count": 7,
   "id": "5c55dbe3-d742-43bb-9ba0-7ec0f184ce89",
   "metadata": {},
   "outputs": [],
   "source": [
    "def auto_email(sender_email, sender_password, customer_emails, template_title=\"\", template_content=\"\", pictures_address=\"\"):\n",
    "    # Email credentials\n",
    "    sender_email = sender_email\n",
    "    sender_password = sender_password\n",
    "\n",
    "    # SMTP server details\n",
    "    smtp_server = \"mail.acsunshine.com\"\n",
    "    smtp_port = 465  # Port for TLS\n",
    "\n",
    "    # Guess the MIME type of the picture\n",
    "    mime_type, _ = mimetypes.guess_type(pictures_address)\n",
    "    print(\"mime_type: \", mime_type)\n",
    "    mime_type, mime_subtype = mime_type.split('/')\n",
    "\n",
    "    # Create a unique Content-ID for the image\n",
    "    image_cid = make_msgid()\n",
    "\n",
    "    # Setting up the SMTP server with TLS\n",
    "    with smtplib.SMTP_SSL(smtp_server, smtp_port) as smtp:\n",
    "        smtp.login(sender_email, sender_password)\n",
    "        print(\"SSL/TLS login successful: \", sender_email)\n",
    "\n",
    "        # Creating the email message\n",
    "        msg = EmailMessage()\n",
    "        msg['Subject'] = template_title\n",
    "        msg['From'] = sender_email\n",
    "\n",
    "        # HTML content with the image embedded\n",
    "        html_content = f\"\"\"\n",
    "        <html>\n",
    "        <body>\n",
    "            <p>{template_content}</p>\n",
    "            <img src=\"cid:{image_cid[1:-1]}\">\n",
    "        </body>\n",
    "        </html>\n",
    "        \"\"\"\n",
    "        msg.set_content(html_content, subtype='html')\n",
    "\n",
    "        # Attaching the image inline\n",
    "        with open(pictures_address, 'rb') as file:\n",
    "            msg.add_related(file.read(),\n",
    "                            maintype=mime_type,\n",
    "                            subtype=mime_subtype,\n",
    "                            cid=image_cid)\n",
    "\n",
    "        # Sending the email to all customers\n",
    "        for customer_email in customer_emails:\n",
    "            msg['To'] = customer_email\n",
    "            smtp.send_message(msg)\n",
    "            print(f\"Email sent to {customer_email}\")\n",
    "            # Clear the 'To' field for the next recipient\n",
    "            del msg['To']"
   ]
  },
  {
   "cell_type": "code",
   "execution_count": 8,
   "id": "c67c44fb-fcd6-4f8d-9d81-671976c5510d",
   "metadata": {},
   "outputs": [],
   "source": [
    "#sender_email = \"erdingliao2000@gmail.com\"\n",
    "#sender_password = \"sxlxotcusrwpfesc\"\n",
    "\n",
    "sender_email = \"info@acsunshine.com\"\n",
    "sender_password = \"univest\"\n",
    "\n",
    "# Usage example\n",
    "template_title = \"Automatic Mail Sender Title\"\n",
    "template_content = \"Automatic Mail Sender Context \\n and if correctly displaced you will not see the slash-N above. \\n Check the picture below:\\n\"\n",
    "pictures_address = \"ACS_icon.png\"\n",
    "customer_emails = [\"eding@acsunshine.com\", \"erdingliao2000@gmail.com\"]"
   ]
  },
  {
   "cell_type": "code",
   "execution_count": 9,
   "id": "cc920ca7-f3b4-467d-a725-c6b5ff6ee9a0",
   "metadata": {},
   "outputs": [
    {
     "name": "stdout",
     "output_type": "stream",
     "text": [
      "mime_type:  image/png\n"
     ]
    },
    {
     "ename": "NameError",
     "evalue": "name 'password' is not defined",
     "output_type": "error",
     "traceback": [
      "\u001b[1;31m---------------------------------------------------------------------------\u001b[0m",
      "\u001b[1;31mNameError\u001b[0m                                 Traceback (most recent call last)",
      "Cell \u001b[1;32mIn[9], line 1\u001b[0m\n\u001b[1;32m----> 1\u001b[0m auto_email(sender_email, sender_password, customer_emails, template_title, template_content, pictures_address)\n",
      "Cell \u001b[1;32mIn[7], line 20\u001b[0m, in \u001b[0;36mauto_email\u001b[1;34m(sender_email, sender_password, customer_emails, template_title, template_content, pictures_address)\u001b[0m\n\u001b[0;32m     18\u001b[0m \u001b[38;5;66;03m# Setting up the SMTP server with TLS\u001b[39;00m\n\u001b[0;32m     19\u001b[0m \u001b[38;5;28;01mwith\u001b[39;00m smtplib\u001b[38;5;241m.\u001b[39mSMTP_SSL(smtp_server, smtp_port) \u001b[38;5;28;01mas\u001b[39;00m smtp:\n\u001b[1;32m---> 20\u001b[0m     smtp\u001b[38;5;241m.\u001b[39mlogin(sender_email, password)\n\u001b[0;32m     21\u001b[0m     \u001b[38;5;28mprint\u001b[39m(\u001b[38;5;124m\"\u001b[39m\u001b[38;5;124mSSL/TLS login successful: \u001b[39m\u001b[38;5;124m\"\u001b[39m, sender_email)\n\u001b[0;32m     23\u001b[0m     \u001b[38;5;66;03m# Creating the email message\u001b[39;00m\n",
      "\u001b[1;31mNameError\u001b[0m: name 'password' is not defined"
     ]
    }
   ],
   "source": [
    "auto_email(sender_email, sender_password, customer_emails, template_title, template_content, pictures_address)"
   ]
  },
  {
   "cell_type": "code",
   "execution_count": 28,
   "id": "cfaa0e07-f715-4f8e-bebe-fd44cb17f787",
   "metadata": {},
   "outputs": [],
   "source": [
    "mime_type, _ = mimetypes.guess_type(pictures_address)"
   ]
  },
  {
   "cell_type": "code",
   "execution_count": 29,
   "id": "b9ce81cc-bd67-422d-b70e-809240e3876a",
   "metadata": {},
   "outputs": [
    {
     "data": {
      "text/plain": [
       "'image/png'"
      ]
     },
     "execution_count": 29,
     "metadata": {},
     "output_type": "execute_result"
    }
   ],
   "source": [
    "mime_type"
   ]
  },
  {
   "cell_type": "code",
   "execution_count": null,
   "id": "830d2019-4ef7-49ea-9910-2630eabfe1b0",
   "metadata": {},
   "outputs": [],
   "source": []
  },
  {
   "cell_type": "code",
   "execution_count": null,
   "id": "e05c681a-b4b8-43c5-8491-997f90cd6671",
   "metadata": {},
   "outputs": [],
   "source": []
  },
  {
   "cell_type": "code",
   "execution_count": null,
   "id": "b1c30b1a-b842-40b1-b209-ac0078aa1c11",
   "metadata": {},
   "outputs": [],
   "source": [
    "import smtplib\n",
    "from email.message import EmailMessage\n",
    "msg = EmailMessage()\n",
    "\n",
    "# initialize connection to our email server, we will use Outlook here\n",
    "smtp = smtplib.SMTP_SSL('mail.acsunshine.com', port='465')\n",
    "\n",
    "smtp.ehlo()  # send the extended hello to our server\n",
    "smtp.starttls()  # tell server we want to communicate with TLS encryption\n",
    "\n",
    "smtp.login('info@acsunshine.com', 'univest')  # login to our email server\n",
    "\n",
    "# send our email message 'msg' to our boss\n",
    "smtp.sendmail(\"erdingliao2000@gmail.com\",\n",
    "              msg.as_string())\n",
    "              \n",
    "smtp.quit()  # finally, don't forget to close the connection"
   ]
  },
  {
   "cell_type": "code",
   "execution_count": null,
   "id": "d3d23c7d-3c43-4468-bee2-5c8c1a8e015f",
   "metadata": {},
   "outputs": [],
   "source": []
  }
 ],
 "metadata": {
  "kernelspec": {
   "display_name": "Python 3 (ipykernel)",
   "language": "python",
   "name": "python3"
  },
  "language_info": {
   "codemirror_mode": {
    "name": "ipython",
    "version": 3
   },
   "file_extension": ".py",
   "mimetype": "text/x-python",
   "name": "python",
   "nbconvert_exporter": "python",
   "pygments_lexer": "ipython3",
   "version": "3.11.7"
  }
 },
 "nbformat": 4,
 "nbformat_minor": 5
}
